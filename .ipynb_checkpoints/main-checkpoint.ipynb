{
 "cells": [
  {
   "cell_type": "code",
   "execution_count": 1,
   "metadata": {},
   "outputs": [],
   "source": [
    "import matplotlib.pyplot as plt\n",
    "import pandas as pd\n",
    "import scipy.stats as st\n",
    "import numpy as np"
   ]
  },
  {
   "cell_type": "code",
   "execution_count": 3,
   "metadata": {},
   "outputs": [],
   "source": [
    "data1_path = 'Resources/mouse_metadata.csv'\n",
    "data2_path = 'Resources/study_results.csv'\n",
    "\n",
    "data1 = pd.read_csv(data1_path)\n",
    "data2 = pd.read_csv(data2_path)"
   ]
  },
  {
   "cell_type": "code",
   "execution_count": 50,
   "metadata": {},
   "outputs": [
    {
     "data": {
      "text/plain": [
       "Mouse ID              1893\n",
       "Drug Regimen          1893\n",
       "Sex                   1893\n",
       "Age_months            1893\n",
       "Weight (g)            1893\n",
       "Timepoint             1893\n",
       "Tumor Volume (mm3)    1893\n",
       "Metastatic Sites      1893\n",
       "dtype: int64"
      ]
     },
     "execution_count": 50,
     "metadata": {},
     "output_type": "execute_result"
    }
   ],
   "source": [
    "df = pd.merge(data1,data2, on='Mouse ID')\n",
    "df.count()"
   ]
  },
  {
   "cell_type": "code",
   "execution_count": 52,
   "metadata": {},
   "outputs": [
    {
     "name": "stdout",
     "output_type": "stream",
     "text": [
      "249\n"
     ]
    }
   ],
   "source": [
    "print(len(pd.unique(df['Mouse ID'])))"
   ]
  },
  {
   "cell_type": "code",
   "execution_count": 47,
   "metadata": {},
   "outputs": [
    {
     "data": {
      "text/plain": [
       "Mouse ID              1888\n",
       "Drug Regimen          1888\n",
       "Sex                   1888\n",
       "Age_months            1888\n",
       "Weight (g)            1888\n",
       "Timepoint             1888\n",
       "Tumor Volume (mm3)    1888\n",
       "Metastatic Sites      1888\n",
       "dtype: int64"
      ]
     },
     "execution_count": 47,
     "metadata": {},
     "output_type": "execute_result"
    }
   ],
   "source": [
    "cleaned_df = df.drop_duplicates(subset=['Mouse ID','Timepoint'])\n",
    "cleaned_df.count()"
   ]
  },
  {
   "cell_type": "code",
   "execution_count": 53,
   "metadata": {},
   "outputs": [
    {
     "name": "stdout",
     "output_type": "stream",
     "text": [
      "249\n"
     ]
    }
   ],
   "source": [
    "print(len(pd.unique(cleaned_df['Mouse ID'])))"
   ]
  },
  {
   "cell_type": "code",
   "execution_count": 96,
   "metadata": {},
   "outputs": [
    {
     "data": {
      "text/html": [
       "<div>\n",
       "<style scoped>\n",
       "    .dataframe tbody tr th:only-of-type {\n",
       "        vertical-align: middle;\n",
       "    }\n",
       "\n",
       "    .dataframe tbody tr th {\n",
       "        vertical-align: top;\n",
       "    }\n",
       "\n",
       "    .dataframe thead th {\n",
       "        text-align: right;\n",
       "    }\n",
       "</style>\n",
       "<table border=\"1\" class=\"dataframe\">\n",
       "  <thead>\n",
       "    <tr style=\"text-align: right;\">\n",
       "      <th></th>\n",
       "      <th>Mean Tumor Volume (mm3)</th>\n",
       "      <th>Median Tumor Volume (mm3)</th>\n",
       "      <th>Standard Deviation</th>\n",
       "      <th>Standard Error of the Mean</th>\n",
       "    </tr>\n",
       "    <tr>\n",
       "      <th>Drug Regimen</th>\n",
       "      <th></th>\n",
       "      <th></th>\n",
       "      <th></th>\n",
       "      <th></th>\n",
       "    </tr>\n",
       "  </thead>\n",
       "  <tbody>\n",
       "    <tr>\n",
       "      <th>Capomulin</th>\n",
       "      <td>40.675741</td>\n",
       "      <td>41.557809</td>\n",
       "      <td>4.994774</td>\n",
       "      <td>0.329346</td>\n",
       "    </tr>\n",
       "    <tr>\n",
       "      <th>Ceftamin</th>\n",
       "      <td>52.591172</td>\n",
       "      <td>51.776157</td>\n",
       "      <td>6.268188</td>\n",
       "      <td>0.469821</td>\n",
       "    </tr>\n",
       "    <tr>\n",
       "      <th>Infubinol</th>\n",
       "      <td>52.884795</td>\n",
       "      <td>51.820584</td>\n",
       "      <td>6.567243</td>\n",
       "      <td>0.492236</td>\n",
       "    </tr>\n",
       "    <tr>\n",
       "      <th>Ketapril</th>\n",
       "      <td>55.235638</td>\n",
       "      <td>53.698743</td>\n",
       "      <td>8.279709</td>\n",
       "      <td>0.603860</td>\n",
       "    </tr>\n",
       "    <tr>\n",
       "      <th>Naftisol</th>\n",
       "      <td>54.331565</td>\n",
       "      <td>52.509285</td>\n",
       "      <td>8.134708</td>\n",
       "      <td>0.596466</td>\n",
       "    </tr>\n",
       "    <tr>\n",
       "      <th>Placebo</th>\n",
       "      <td>54.033581</td>\n",
       "      <td>52.288934</td>\n",
       "      <td>7.821003</td>\n",
       "      <td>0.581331</td>\n",
       "    </tr>\n",
       "    <tr>\n",
       "      <th>Propriva</th>\n",
       "      <td>52.393463</td>\n",
       "      <td>50.909965</td>\n",
       "      <td>6.568014</td>\n",
       "      <td>0.525862</td>\n",
       "    </tr>\n",
       "    <tr>\n",
       "      <th>Ramicane</th>\n",
       "      <td>40.216745</td>\n",
       "      <td>40.673236</td>\n",
       "      <td>4.846308</td>\n",
       "      <td>0.320955</td>\n",
       "    </tr>\n",
       "    <tr>\n",
       "      <th>Stelasyn</th>\n",
       "      <td>54.233149</td>\n",
       "      <td>52.431737</td>\n",
       "      <td>7.710419</td>\n",
       "      <td>0.573111</td>\n",
       "    </tr>\n",
       "    <tr>\n",
       "      <th>Zoniferol</th>\n",
       "      <td>53.236507</td>\n",
       "      <td>51.818479</td>\n",
       "      <td>6.966589</td>\n",
       "      <td>0.516398</td>\n",
       "    </tr>\n",
       "  </tbody>\n",
       "</table>\n",
       "</div>"
      ],
      "text/plain": [
       "              Mean Tumor Volume (mm3)  Median Tumor Volume (mm3)  \\\n",
       "Drug Regimen                                                       \n",
       "Capomulin                   40.675741                  41.557809   \n",
       "Ceftamin                    52.591172                  51.776157   \n",
       "Infubinol                   52.884795                  51.820584   \n",
       "Ketapril                    55.235638                  53.698743   \n",
       "Naftisol                    54.331565                  52.509285   \n",
       "Placebo                     54.033581                  52.288934   \n",
       "Propriva                    52.393463                  50.909965   \n",
       "Ramicane                    40.216745                  40.673236   \n",
       "Stelasyn                    54.233149                  52.431737   \n",
       "Zoniferol                   53.236507                  51.818479   \n",
       "\n",
       "              Standard Deviation  Standard Error of the Mean  \n",
       "Drug Regimen                                                  \n",
       "Capomulin               4.994774                    0.329346  \n",
       "Ceftamin                6.268188                    0.469821  \n",
       "Infubinol               6.567243                    0.492236  \n",
       "Ketapril                8.279709                    0.603860  \n",
       "Naftisol                8.134708                    0.596466  \n",
       "Placebo                 7.821003                    0.581331  \n",
       "Propriva                6.568014                    0.525862  \n",
       "Ramicane                4.846308                    0.320955  \n",
       "Stelasyn                7.710419                    0.573111  \n",
       "Zoniferol               6.966589                    0.516398  "
      ]
     },
     "execution_count": 96,
     "metadata": {},
     "output_type": "execute_result"
    }
   ],
   "source": [
    "placeholder = cleaned_df.groupby('Drug Regimen')\n",
    "a = placeholder['Tumor Volume (mm3)'].mean()\n",
    "b = placeholder['Tumor Volume (mm3)'].median()\n",
    "c = placeholder['Tumor Volume (mm3)'].std()\n",
    "d = placeholder['Tumor Volume (mm3)'].sem()\n",
    "drug_mean = a.to_frame()\n",
    "drug_median = b.to_frame()\n",
    "drug_std = c.to_frame()\n",
    "drug_sem = d.to_frame()\n",
    "\n",
    "Drug_Regimen_SumStats_df = pd.concat([drug_mean,drug_median,drug_std,drug_sem],axis=1)\n",
    "Drug_Regimen_SumStats_df.columns = ['Mean Tumor Volume (mm3)','Median Tumor Volume (mm3)', 'Standard Deviation','Standard Error of the Mean']\n",
    "Drug_Regimen_SumStats_df"
   ]
  },
  {
   "cell_type": "code",
   "execution_count": 399,
   "metadata": {},
   "outputs": [
    {
     "data": {
      "text/plain": [
       "<function matplotlib.pyplot.show(close=None, block=None)>"
      ]
     },
     "execution_count": 399,
     "metadata": {},
     "output_type": "execute_result"
    },
    {
     "data": {
      "image/png": "[encoded data removed]",
      "text/plain": [
       "<Figure size 432x288 with 1 Axes>"
      ]
     },
     "metadata": {
      "needs_background": "light"
     },
     "output_type": "display_data"
    }
   ],
   "source": [
    "placeholder.count().plot.bar(y = 'Timepoint',title = 'Total Experiments done by Drug Regimen',ylabel='Count')\n",
    "plt.legend(['Total Experiments'])\n",
    "plt.show"
   ]
  },
  {
   "cell_type": "code",
   "execution_count": 398,
   "metadata": {},
   "outputs": [
    {
     "data": {
      "text/plain": [
       "<function matplotlib.pyplot.show(close=None, block=None)>"
      ]
     },
     "execution_count": 398,
     "metadata": {},
     "output_type": "execute_result"
    },
    {
     "data": {
      "image/png": "[encoded data removed]",
      "text/plain": [
       "<Figure size 432x288 with 1 Axes>"
      ]
     },
     "metadata": {
      "needs_background": "light"
     },
     "output_type": "display_data"
    }
   ],
   "source": [
    "fig = plt.figure()\n",
    "t = placeholder['Timepoint'].count()\n",
    "x = np.arange(len(t))\n",
    "labels = ['Capomulin','Ceftamin', 'Infubinol', 'Ketapril','Naftisol','Placebo', \n",
    "       'Propriva','Ramicane', 'Stelasyn', 'Zoniferol']\n",
    "plt.bar(x,t,width = 0.5)\n",
    "plt.xticks(x,labels,rotation=90)\n",
    "plt.title('Total Experiments done by Drug Regimen')\n",
    "plt.xlabel('Drug Regimen')\n",
    "plt.ylabel('Count')\n",
    "plt.legend(labels=['Total Experiments'])\n",
    "plt.show"
   ]
  },
  {
   "cell_type": "code",
   "execution_count": 397,
   "metadata": {},
   "outputs": [
    {
     "data": {
      "text/plain": [
       "<function matplotlib.pyplot.show(close=None, block=None)>"
      ]
     },
     "execution_count": 397,
     "metadata": {},
     "output_type": "execute_result"
    },
    {
     "data": {
      "image/png": "[encoded data removed]",
      "text/plain": [
       "<Figure size 432x288 with 1 Axes>"
      ]
     },
     "metadata": {},
     "output_type": "display_data"
    }
   ],
   "source": [
    "placeholder3 = cleaned_df.groupby('Sex')['Timepoint'].count()\n",
    "placeholder3.plot.pie(ylabel = ' ', title = 'Distibution of Particpants by Gender')\n",
    "plt.show"
   ]
  },
  {
   "cell_type": "code",
   "execution_count": 396,
   "metadata": {},
   "outputs": [
    {
     "data": {
      "text/plain": [
       "<function matplotlib.pyplot.show(close=None, block=None)>"
      ]
     },
     "execution_count": 396,
     "metadata": {},
     "output_type": "execute_result"
    },
    {
     "data": {
      "image/png": "[encoded data removed]",
      "text/plain": [
       "<Figure size 432x288 with 1 Axes>"
      ]
     },
     "metadata": {},
     "output_type": "display_data"
    }
   ],
   "source": [
    "fig = plt.figure()\n",
    "x = np.array(placeholder3)\n",
    "labels = ['Female','Male']\n",
    "plt.pie(x,labels=labels)\n",
    "plt.title('Distibution of Particpants by Gender')\n",
    "plt.show"
   ]
  },
  {
   "cell_type": "code",
   "execution_count": 391,
   "metadata": {},
   "outputs": [
    {
     "name": "stdout",
     "output_type": "stream",
     "text": [
      "The lower and upper quartile for total tumor volume by mouse for Capomulin respectively is 361.82039562 mm3 and 425.07261035000005 mm3\n",
      "The interquartile range of volumes is: 63.25221473000005\n",
      "The median total tumer volume by mouse of Capomulin is 398.87495191 mm3\n",
      "Values that fall below 266.94207352499996 mm3 and above 519.9509324450001 mm3 may be outlliers\n",
      "\n",
      "The lower and upper quartile for total tumor volume by mouse for Ramicane respectively is 360.50156185 mm3 and 407.0138542699999 mm3\n",
      "The interquartile range of volumes is: 46.51229241999994\n",
      "The median total tumer volume by mouse of Ramicane is 388.07794580999996 mm3\n",
      "Values that fall below 290.73312322000004 mm3 and above 476.7822928999998 mm3 may be outlliers\n",
      "\n",
      "The lower and upper quartile for total tumor volume by mouse for Infubinol respectively is 250.34313264000002 mm3 and 539.7958369400001 mm3\n",
      "The interquartile range of volumes is: 289.45270430000005\n",
      "The median total tumer volume by mouse of Infubinol is 368.77146924 mm3\n",
      "Values that fall below 250.34313264000002 mm3 and above 973.9748933900001 mm3 may be outlliers\n",
      "\n",
      "The lower and upper quartile for total tumor volume by mouse for Ceftamin respectively is 188.23985302 mm3 and 534.67355232 mm3\n",
      "The interquartile range of volumes is: 346.4336993\n",
      "The median total tumer volume by mouse of Ceftamin is 516.11146932 mm3\n",
      "Values that fall below 188.23985302 mm3 and above 1054.32410127 mm3 may be outlliers\n",
      "\n"
     ]
    }
   ],
   "source": [
    "sorted_df = cleaned_df.loc[cleaned_df['Drug Regimen'].isin(['Capomulin', 'Ramicane', 'Infubinol', 'Ceftamin'])]\n",
    "sorted_df = sorted_df.groupby('Drug Regimen')\n",
    "\n",
    "capomulin_sum = sorted_df.get_group('Capomulin').groupby('Mouse ID').sum()\n",
    "Capomulin = capomulin_sum['Tumor Volume (mm3)']\n",
    "ramicane_sum = sorted_df.get_group('Ramicane').groupby('Mouse ID').sum()\n",
    "Ramicane= ramicane_sum['Tumor Volume (mm3)']\n",
    "infubinol_sum = sorted_df.get_group('Infubinol').groupby('Mouse ID').sum()\n",
    "Infubinol = infubinol_sum['Tumor Volume (mm3)']\n",
    "ceftamin_sum = sorted_df.get_group('Ceftamin').groupby('Mouse ID').sum()\n",
    "Ceftamin = ceftamin_sum['Tumor Volume (mm3)']\n",
    "drug_dict = {'Capomulin': Capomulin, 'Ramicane': Ramicane, 'Infubinol': Infubinol, 'Ceftamin' : Ceftamin}\n",
    "\n",
    "for key, value in drug_dict.items():\n",
    "    quartile = value.quantile([0.25,0.5,0.75])\n",
    "    lowerq = quartile[0.25]\n",
    "    upperq = quartile[0.75]\n",
    "    iqr = upperq-lowerq\n",
    "    lower_bound = lowerq - (1.5*iqr)\n",
    "    if lower_bound <=0:\n",
    "        lower_bound = lowerq\n",
    "    upper_bound = upperq + (1.5*iqr)\n",
    "    \n",
    "    print(f'The lower and upper quartile for total tumor volume by mouse for {key} respectively is {lowerq} mm3 and {upperq} mm3')\n",
    "    print(f'The interquartile range of volumes is: {iqr}')\n",
    "    print(f'The median total tumer volume by mouse of {key} is {quartile[0.5]} mm3')\n",
    "    print(f'Values that fall below {lower_bound} mm3 and above {upper_bound} mm3 may be outlliers\\n')"
   ]
  },
  {
   "cell_type": "code",
   "execution_count": 405,
   "metadata": {},
   "outputs": [
    {
     "data": {
      "text/plain": [
       "<function matplotlib.pyplot.show(close=None, block=None)>"
      ]
     },
     "execution_count": 405,
     "metadata": {},
     "output_type": "execute_result"
    },
    {
     "data": {
      "image/png": "[encoded data removed]",
      "text/plain": [
       "<Figure size 432x288 with 1 Axes>"
      ]
     },
     "metadata": {
      "needs_background": "light"
     },
     "output_type": "display_data"
    }
   ],
   "source": [
    "drug_list = [Capomulin, Ramicane, Infubinol, Ceftamin]\n",
    "labels = ['Capomulin', 'Ramicane', 'Infubinol', 'Ceftamin']\n",
    "red_diamond = dict(markerfacecolor='r',marker='D')\n",
    "plt.boxplot(drug_list,labels=labels,flierprops=red_diamond)\n",
    "plt.title('Total Tutor Volume per Mouse by Drug Regimen')\n",
    "plt.xlabel('Drug Regimen')\n",
    "plt.ylabel('Total Volume of Tumor per Mouse (mm3)')\n",
    "plt.show"
   ]
  },
  {
   "cell_type": "code",
   "execution_count": 423,
   "metadata": {},
   "outputs": [
    {
     "data": {
      "text/plain": [
       "<AxesSubplot:title={'center':'Mouse ID: b128 Tumor Volume Over Time'}, xlabel='Timepoint', ylabel='Tumor Volume (mm3)'>"
      ]
     },
     "execution_count": 423,
     "metadata": {},
     "output_type": "execute_result"
    },
    {
     "data": {
      "image/png": "[encoded data removed]",
      "text/plain": [
       "<Figure size 432x288 with 1 Axes>"
      ]
     },
     "metadata": {
      "needs_background": "light"
     },
     "output_type": "display_data"
    }
   ],
   "source": [
    "z = cleaned_df.groupby('Mouse ID')\n",
    "y = z.get_group('b128')\n",
    "y.plot.line(x='Timepoint',y='Tumor Volume (mm3)',title = 'Mouse ID: b128 Tumor Volume Over Time', ylabel = 'Tumor Volume (mm3)')"
   ]
  },
  {
   "cell_type": "code",
   "execution_count": 443,
   "metadata": {},
   "outputs": [
    {
     "data": {
      "text/plain": [
       "0.8419363424694717"
      ]
     },
     "execution_count": 443,
     "metadata": {},
     "output_type": "execute_result"
    },
    {
     "data": {
      "image/png": "[encoded data removed]",
      "text/plain": [
       "<Figure size 432x288 with 1 Axes>"
      ]
     },
     "metadata": {
      "needs_background": "light"
     },
     "output_type": "display_data"
    }
   ],
   "source": [
    "p = sorted_df.get_group('Capomulin').groupby('Mouse ID').mean()\n",
    "p.plot.scatter(x ='Weight (g)',y='Tumor Volume (mm3)')\n",
    "x_values = p['Weight (g)']\n",
    "y_values = p['Tumor Volume (mm3)']\n",
    "(slope, intercept, rvalue, pvalue, stderr) = st.linregress(x_values, y_values)\n",
    "regress_values = x_values * slope + intercept\n",
    "plt.plot(x_values,regress_values,'g-')\n",
    "\n",
    "correlation = st.pearsonr(x_values,y_values)\n",
    "correlation[0]"
   ]
  },
  {
   "cell_type": "code",
   "execution_count": null,
   "metadata": {},
   "outputs": [],
   "source": []
  },
  {
   "cell_type": "code",
   "execution_count": null,
   "metadata": {},
   "outputs": [],
   "source": []
  },
  {
   "cell_type": "code",
   "execution_count": null,
   "metadata": {},
   "outputs": [],
   "source": []
  }
 ],
 "metadata": {
  "kernelspec": {
   "display_name": "Python 3",
   "language": "python",
   "name": "python3"
  },
  "language_info": {
   "codemirror_mode": {
    "name": "ipython",
    "version": 3
   },
   "file_extension": ".py",
   "mimetype": "text/x-python",
   "name": "python",
   "nbconvert_exporter": "python",
   "pygments_lexer": "ipython3",
   "version": "3.8.5"
  }
 },
 "nbformat": 4,
 "nbformat_minor": 4
}
